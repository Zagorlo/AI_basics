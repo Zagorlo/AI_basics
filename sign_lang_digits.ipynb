{
 "cells": [
  {
   "cell_type": "code",
   "execution_count": 1,
   "id": "c2068fe3-ca5a-41d6-af05-323944c2f36b",
   "metadata": {},
   "outputs": [],
   "source": [
    "import numpy as np\n",
    "from time import time"
   ]
  },
  {
   "cell_type": "markdown",
   "id": "6fd1c21f-a81d-4f28-a15c-e2433768b36e",
   "metadata": {},
   "source": [
    "Датасет \"Sign Language Digits Dataset\" содержит чб фотографии 64х64 с цифрами, изображёнными на языке жестов. Датасет предобработан и загружен как массивы numpy. \n",
    "Задача классификации, классы - цифры от 0 до 9. \n",
    "Train/test = 80/20. \n",
    "Размер датасета - около 2000 картинок."
   ]
  },
  {
   "cell_type": "code",
   "execution_count": 2,
   "id": "d05265c5-1928-426c-8998-63722213a16e",
   "metadata": {},
   "outputs": [],
   "source": [
    "Y=np.load('Y.npy')\n",
    "X=np.c_[np.reshape(np.ravel(np.load('X.npy')),(len(Y),64*64)),np.array([np.argmax(a) for a in Y])]\n",
    "tt=len(X)//5\n",
    "np.random.shuffle(X)\n",
    "Y=X[:,64*64]\n",
    "X=np.delete(X,64*64,1)"
   ]
  },
  {
   "cell_type": "code",
   "execution_count": 3,
   "id": "a3f2e3e8-33e8-4966-912e-1e071b20121f",
   "metadata": {},
   "outputs": [
    {
     "name": "stdout",
     "output_type": "stream",
     "text": [
      "Время обучения логистической регрессии 14.29 с\n",
      "Средняя точность логистической регрессии на test 0.75\n"
     ]
    }
   ],
   "source": [
    "from sklearn.linear_model import LogisticRegression\n",
    "\n",
    "log_reg=LogisticRegression(random_state=0,max_iter=2000,solver='liblinear')\n",
    "start=time()\n",
    "log_reg.fit(X[tt:],Y[tt:])\n",
    "print('Время обучения логистической регрессии',round(time()-start,2),'с')\n",
    "print('Средняя точность логистической регрессии на test',round(log_reg.score(X[:tt],Y[:tt]),2))"
   ]
  },
  {
   "cell_type": "code",
   "execution_count": 4,
   "id": "c262f902-60d9-48a5-8e6f-2a66fdbc96c0",
   "metadata": {},
   "outputs": [
    {
     "name": "stdout",
     "output_type": "stream",
     "text": [
      "Время обучения наивного байесовского классификатора 0.09 с\n",
      "Средняя точность наивного байесовского классификатора с распределением Гаусса на test 0.62\n"
     ]
    }
   ],
   "source": [
    "from sklearn.naive_bayes import GaussianNB\n",
    "\n",
    "bayes=GaussianNB()\n",
    "start=time()\n",
    "bayes.fit(X[tt:],Y[tt:])\n",
    "print('Время обучения наивного байесовского классификатора',round(time()-start,2),'с')\n",
    "print('Средняя точность наивного байесовского классификатора с распределением Гаусса на test',round(bayes.score(X[:tt],Y[:tt]),2))"
   ]
  },
  {
   "cell_type": "code",
   "execution_count": 5,
   "id": "1662fd9f-c224-422d-a9f5-b1ba0d9e583d",
   "metadata": {},
   "outputs": [
    {
     "name": "stdout",
     "output_type": "stream",
     "text": [
      "Время обучения дерева решения 3.3 с\n",
      "Средняя точность дерева решения на test 0.57\n"
     ]
    }
   ],
   "source": [
    "from sklearn.tree import DecisionTreeClassifier\n",
    "\n",
    "des_tree=DecisionTreeClassifier(random_state=0)\n",
    "start=time()\n",
    "des_tree.fit(X[tt:],Y[tt:])\n",
    "print('Время обучения дерева решения',round(time()-start,2),'с')\n",
    "print('Средняя точность дерева решения на test',round(des_tree.score(X[:tt],Y[:tt]),2))"
   ]
  },
  {
   "cell_type": "code",
   "execution_count": 6,
   "id": "f3a40dfe-24ed-4ecf-916d-da6cbb25ece2",
   "metadata": {},
   "outputs": [
    {
     "name": "stdout",
     "output_type": "stream",
     "text": [
      "Время обучения random forest 3.11 с\n",
      "Средняя точность random forest на test 0.79\n"
     ]
    }
   ],
   "source": [
    "from sklearn.ensemble import RandomForestClassifier\n",
    "\n",
    "forest=RandomForestClassifier(n_estimators=80)\n",
    "start=time()\n",
    "forest.fit(X[tt:],Y[tt:])\n",
    "print('Время обучения random forest',round(time()-start,2),'с')\n",
    "print('Средняя точность random forest на test',round(forest.score(X[:tt],Y[:tt]),2))"
   ]
  },
  {
   "cell_type": "code",
   "execution_count": 7,
   "id": "efb0c478-2ff5-4196-b936-ca80f83d9bd2",
   "metadata": {},
   "outputs": [
    {
     "name": "stdout",
     "output_type": "stream",
     "text": [
      "Время обучения KNN 0.01 с\n",
      "Средняя точность KNN на test 0.69\n"
     ]
    }
   ],
   "source": [
    "from sklearn.neighbors import KNeighborsClassifier\n",
    "\n",
    "knn=KNeighborsClassifier(n_neighbors=9)\n",
    "start=time()\n",
    "knn.fit(X[tt:],Y[tt:])\n",
    "print('Время обучения KNN',round(time()-start,2),'с')\n",
    "print('Средняя точность KNN на test',round(knn.score(X[:tt],Y[:tt]),2))"
   ]
  },
  {
   "cell_type": "code",
   "execution_count": 12,
   "id": "631161eb-a0ce-46fe-adc8-7129aab790af",
   "metadata": {},
   "outputs": [
    {
     "name": "stdout",
     "output_type": "stream",
     "text": [
      "Время обучения Voting Classifier 17.26 с\n",
      "Средняя точность Voting Classifier на test 0.8\n"
     ]
    }
   ],
   "source": [
    "from sklearn.ensemble import VotingClassifier\n",
    "\n",
    "voting=VotingClassifier(estimators=[('lr',log_reg),('rf',forest),('knn',knn)], voting='hard')\n",
    "start=time()\n",
    "voting.fit(X[tt:],Y[tt:])\n",
    "print('Время обучения Voting Classifier',round(time()-start,2),'с')\n",
    "print('Средняя точность Voting Classifier на test',round(voting.score(X[:tt],Y[:tt]),2))"
   ]
  },
  {
   "cell_type": "markdown",
   "id": "ba992d8f-1ef4-4195-a9ff-0a680a8b2a51",
   "metadata": {},
   "source": [
    "Лучше всех оказались Voting Classifier и Random Forest."
   ]
  },
  {
   "cell_type": "code",
   "execution_count": null,
   "id": "d6451a8e-fbe1-4ba6-985c-6aed25da8f7d",
   "metadata": {},
   "outputs": [],
   "source": []
  }
 ],
 "metadata": {
  "kernelspec": {
   "display_name": "Python 3 (ipykernel)",
   "language": "python",
   "name": "python3"
  },
  "language_info": {
   "codemirror_mode": {
    "name": "ipython",
    "version": 3
   },
   "file_extension": ".py",
   "mimetype": "text/x-python",
   "name": "python",
   "nbconvert_exporter": "python",
   "pygments_lexer": "ipython3",
   "version": "3.7.2"
  }
 },
 "nbformat": 4,
 "nbformat_minor": 5
}
